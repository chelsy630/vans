{
 "cells": [
  {
   "cell_type": "code",
   "execution_count": 2,
   "metadata": {
    "collapsed": true,
    "pycharm": {
     "is_executing": false
    }
   },
   "outputs": [
    {
     "data": {
      "text/plain": "array([[-99,  66,  92,  98, -99,  17,  83, -99,  57,  86],\n       [ 97,  96, -99,  47,  73,  32,  46,  96, -99,  25],\n       [ 83,  78,  36,  96,  80,  68,  49,  55,  67,   2],\n       [ 84,  39,  66,  84,  47,  61,  48,   7, -99,  99],\n       [ 92,  52, -99,  97,  85, -99,  94,  27,  34,  97],\n       [ 76,  40,   3, -99,  69,  64,  75,  34,  58,  10],\n       [ 22,  77,  18, -99,  15, -99,  27, -99,  30,  52],\n       [ 70, -99, -99,  26,  80,   6,  14, -99, -99,  75],\n       [ 54,  71,   1,  43,  58, -99,  55,  25,  50,  84],\n       [ 56,  49,  12,  18,  81,   1,  51,  44, -99, -99]], dtype=int64)"
     },
     "metadata": {},
     "output_type": "execute_result",
     "execution_count": 2
    }
   ],
   "source": [
    "import numpy as np\n",
    "df=np.load('practice1.npy')\n",
    "df\n",
    "df\n"
   ]
  }
 ],
 "metadata": {
  "kernelspec": {
   "display_name": "Python 3",
   "language": "python",
   "name": "python3"
  },
  "language_info": {
   "codemirror_mode": {
    "name": "ipython",
    "version": 2
   },
   "file_extension": ".py",
   "mimetype": "text/x-python",
   "name": "python",
   "nbconvert_exporter": "python",
   "pygments_lexer": "ipython2",
   "version": "2.7.6"
  },
  "pycharm": {
   "stem_cell": {
    "cell_type": "raw",
    "source": [],
    "metadata": {
     "collapsed": false
    }
   }
  }
 },
 "nbformat": 4,
 "nbformat_minor": 0
}
