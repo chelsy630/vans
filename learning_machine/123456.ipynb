{
 "cells": [
  {
   "cell_type": "code",
   "execution_count": null,
   "metadata": {
    "collapsed": true
   },
   "outputs": [],
   "source": [
    "class Student:\n",
    "    def __init__(self,new_gender,new_major, new_id):\n",
    "        self.gender=new_gender\n",
    "        self.__major =new_major\n",
    "        self.id = new_id\n",
    "    def set_gender(self,new_gender):\n",
    "        if new_gender == 'M' or new_gender =='F':\n",
    "           self.gender = new_gender\n",
    "        else:\n",
    "            print('====請傳入F OR M=====')\n",
    "            pass\n",
    "    def quit_class(self):\n",
    "        pass\n",
    "studentA = Student('M','工管系','D0239567')\n",
    "print(studentA.major)\n",
    "\n"
   ]
  }
 ],
 "metadata": {
  "kernelspec": {
   "display_name": "Python 3",
   "language": "python",
   "name": "python3"
  },
  "language_info": {
   "codemirror_mode": {
    "name": "ipython",
    "version": 2
   },
   "file_extension": ".py",
   "mimetype": "text/x-python",
   "name": "python",
   "nbconvert_exporter": "python",
   "pygments_lexer": "ipython2",
   "version": "2.7.6"
  },
  "pycharm": {
   "stem_cell": {
    "cell_type": "raw",
    "source": [],
    "metadata": {
     "collapsed": false
    }
   }
  }
 },
 "nbformat": 4,
 "nbformat_minor": 0
}
